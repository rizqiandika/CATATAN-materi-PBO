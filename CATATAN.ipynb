{
 "cells": [
  {
   "attachments": {},
   "cell_type": "markdown",
   "metadata": {},
   "source": [
    "# class & object\n",
    "Class adalah properti yang kita buat dari sebuah objek untuk mendefinisikan sebuah atribut.\n",
    "Sedangkan object adalah struktur data yang mendefinisikan dari sebuah class\n",
    "\n",
    "Construktor untuk methode dari program python menggunakan init, jadi kita dapat menuliskannya __init__(), \n",
    "methode tersebut digunakan \n",
    "untuk menganalisis objek dari kelas tersebut\n",
    "\n",
    "Setiap methode harus mempunyai self, untuk membedakan method atau fungsi yang berada di luar class.\n",
    "\n",
    "Class merupakan sebuah entitas, entitas dari class merupakan realisasi dari beberapa objek\n",
    "Objek juga disebut turunan dari class.\n",
    "![](/rizqi/hhhh.png)\n",
    "![](/rizqi/latihan%201.jpg)"
   ]
  },
  {
   "attachments": {},
   "cell_type": "markdown",
   "metadata": {},
   "source": [
    "# Inheritance\n",
    "Inheritance adalah kelas yang menggunakan kode yang terdapat di dalam kelas lain. Artinya, seorang anak dapat mewarisi tinggi atau warna mata orang tua. Anak tersebut juga bisa memiliki nama belakang yang sama dengan orang tua mereka.\n",
    "\n",
    "Suatu kelas dapat mewarisi fungsi dari kelas lain. \n",
    "Apabila objek dibuat menggunakan kelas yang mewarisi dari superclass, objek tersebut akan berisi metode kelas dan superclass.\n",
    "\n",
    "Kelas anak atau subclass dapat mewarisi metode dan variabel dari kelas induk atau kelas dasar.\n",
    "![](/rizqi/latihan%202.jpg)"
   ]
  },
  {
   "attachments": {},
   "cell_type": "markdown",
   "metadata": {},
   "source": [
    "# Type of Inheritance\n",
    "Pewarisan/Penurunan adalah konsep suatu pemrograman dimana sebuah class dapat menurunkan property dan method yang dimiliki kepada class lain.\n",
    "Suatu kelas dapat mewarisi sebuah fungsi dari kelas lain.\n",
    "![](/rizqi/superrrrr.jpg)"
   ]
  },
  {
   "attachments": {},
   "cell_type": "markdown",
   "metadata": {},
   "source": [
    "# Polymorphism\n",
    "Polymorphism adalah suatu object yang dapat memiliki berbagai bentuk, sebagai object dari class sendiri atau object dari superclassnya.\n",
    "dengan menggunakan inheritance kita dapat mewarisi semua akses data dan metode, , dan kita dapat menambahkan metode kita sendiri.\n",
    "inheritance memberikan cara untuk mengatur kode,\n",
    "![](/rizqi/8.jpg)\n",
    "![](/rizqi/9.jpg)"
   ]
  },
  {
   "cell_type": "code",
   "execution_count": null,
   "metadata": {},
   "outputs": [],
   "source": []
  },
  {
   "cell_type": "code",
   "execution_count": null,
   "metadata": {},
   "outputs": [],
   "source": []
  }
 ],
 "metadata": {
  "kernelspec": {
   "display_name": "Python 3",
   "language": "python",
   "name": "python3"
  },
  "language_info": {
   "codemirror_mode": {
    "name": "ipython",
    "version": 3
   },
   "file_extension": ".py",
   "mimetype": "text/x-python",
   "name": "python",
   "nbconvert_exporter": "python",
   "pygments_lexer": "ipython3",
   "version": "3.7.1"
  }
 },
 "nbformat": 4,
 "nbformat_minor": 2
}
